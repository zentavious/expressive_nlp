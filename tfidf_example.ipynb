{
 "cells": [
  {
   "cell_type": "code",
   "execution_count": 229,
   "id": "c3a84d96-2f06-4a86-b5b3-3cf1a8532923",
   "metadata": {},
   "outputs": [],
   "source": [
    "import os\n",
    "import re\n",
    "import nltk\n",
    "from nltk.stem import WordNetLemmatizer\n",
    "import numpy as np\n",
    "import pandas as pd\n",
    "\n",
    "from sklearn.feature_extraction.text import CountVectorizer\n",
    "from sklearn.feature_extraction.text import TfidfTransformer\n",
    "from sklearn.feature_extraction.text import TfidfVectorizer\n",
    "from sklearn.model_selection import train_test_split\n",
    "from sklearn.naive_bayes import MultinomialNB\n",
    "from sklearn import metrics\n",
    "from sklearn.svm import LinearSVC\n",
    "from sklearn.svm import SVC\n"
   ]
  },
  {
   "cell_type": "markdown",
   "id": "bbd78250-f4c1-4162-8ebc-0b6f43157194",
   "metadata": {},
   "source": [
    "# Get and format data"
   ]
  },
  {
   "cell_type": "code",
   "execution_count": 199,
   "id": "88a7e12d-ded3-4334-acfc-997ae1ea096f",
   "metadata": {},
   "outputs": [
    {
     "data": {
      "text/html": [
       "<div>\n",
       "<style scoped>\n",
       "    .dataframe tbody tr th:only-of-type {\n",
       "        vertical-align: middle;\n",
       "    }\n",
       "\n",
       "    .dataframe tbody tr th {\n",
       "        vertical-align: top;\n",
       "    }\n",
       "\n",
       "    .dataframe thead th {\n",
       "        text-align: right;\n",
       "    }\n",
       "</style>\n",
       "<table border=\"1\" class=\"dataframe\">\n",
       "  <thead>\n",
       "    <tr style=\"text-align: right;\">\n",
       "      <th></th>\n",
       "      <th>pid</th>\n",
       "      <th>jid</th>\n",
       "      <th>title</th>\n",
       "      <th>plain_text</th>\n",
       "    </tr>\n",
       "  </thead>\n",
       "  <tbody>\n",
       "    <tr>\n",
       "      <th>0</th>\n",
       "      <td>82100</td>\n",
       "      <td>61647de62d09e57a7bc044f2</td>\n",
       "      <td>...the older I get, the more I see of the worl...</td>\n",
       "      <td>Good afternoon, my loves. A cloudy day, but I ...</td>\n",
       "    </tr>\n",
       "    <tr>\n",
       "      <th>1</th>\n",
       "      <td>16793</td>\n",
       "      <td>6164954029f0306678de762a</td>\n",
       "      <td>Optimistic</td>\n",
       "      <td>If surgery happens in a week (hope! hope!) the...</td>\n",
       "    </tr>\n",
       "    <tr>\n",
       "      <th>2</th>\n",
       "      <td>46135</td>\n",
       "      <td>6164b6510921bd66bee1fedb</td>\n",
       "      <td>October isn't our favorite month</td>\n",
       "      <td>Hi All.\\nWe don't really have much to update r...</td>\n",
       "    </tr>\n",
       "    <tr>\n",
       "      <th>3</th>\n",
       "      <td>93598</td>\n",
       "      <td>6164dab3d755e845fcef9ce8</td>\n",
       "      <td>11-Oct-21</td>\n",
       "      <td>The first treatment day is complete.  I spent ...</td>\n",
       "    </tr>\n",
       "    <tr>\n",
       "      <th>4</th>\n",
       "      <td>76626</td>\n",
       "      <td>6164ef75acd8c08f1dc04acc</td>\n",
       "      <td>11-Oct-21</td>\n",
       "      <td>We're still in a \"normal\" interlude. Dale feel...</td>\n",
       "    </tr>\n",
       "  </tbody>\n",
       "</table>\n",
       "</div>"
      ],
      "text/plain": [
       "     pid                       jid  \\\n",
       "0  82100  61647de62d09e57a7bc044f2   \n",
       "1  16793  6164954029f0306678de762a   \n",
       "2  46135  6164b6510921bd66bee1fedb   \n",
       "3  93598  6164dab3d755e845fcef9ce8   \n",
       "4  76626  6164ef75acd8c08f1dc04acc   \n",
       "\n",
       "                                               title  \\\n",
       "0  ...the older I get, the more I see of the worl...   \n",
       "1                                         Optimistic   \n",
       "2                   October isn't our favorite month   \n",
       "3                                          11-Oct-21   \n",
       "4                                          11-Oct-21   \n",
       "\n",
       "                                          plain_text  \n",
       "0  Good afternoon, my loves. A cloudy day, but I ...  \n",
       "1  If surgery happens in a week (hope! hope!) the...  \n",
       "2  Hi All.\\nWe don't really have much to update r...  \n",
       "3  The first treatment day is complete.  I spent ...  \n",
       "4  We're still in a \"normal\" interlude. Dale feel...  "
      ]
     },
     "execution_count": 199,
     "metadata": {},
     "output_type": "execute_result"
    }
   ],
   "source": [
    "dir_path = os.path.abspath('')\n",
    "\n",
    "data_dir = os.path.join(dir_path, \"../../data/expressive/\")\n",
    "\n",
    "text_data = os.path.join(data_dir, f\"raw_text_anonymized.csv\")\n",
    "label_data = os.path.join(data_dir, f\"brief_survey_anonymized.csv\")\n",
    "\n",
    "text_df = pd.read_csv(text_data)\n",
    "label_df = pd.read_csv(label_data)\n",
    "text_df.head()\n"
   ]
  },
  {
   "cell_type": "code",
   "execution_count": 200,
   "id": "78f65fb5-21a4-490e-a445-c1111cb2c9f7",
   "metadata": {},
   "outputs": [
    {
     "name": "stdout",
     "output_type": "stream",
     "text": [
      "Dropped 4 nan rows\n"
     ]
    },
    {
     "data": {
      "text/html": [
       "<div>\n",
       "<style scoped>\n",
       "    .dataframe tbody tr th:only-of-type {\n",
       "        vertical-align: middle;\n",
       "    }\n",
       "\n",
       "    .dataframe tbody tr th {\n",
       "        vertical-align: top;\n",
       "    }\n",
       "\n",
       "    .dataframe thead th {\n",
       "        text-align: right;\n",
       "    }\n",
       "</style>\n",
       "<table border=\"1\" class=\"dataframe\">\n",
       "  <thead>\n",
       "    <tr style=\"text-align: right;\">\n",
       "      <th></th>\n",
       "      <th>pid</th>\n",
       "      <th>jid</th>\n",
       "      <th>title</th>\n",
       "      <th>plain_text</th>\n",
       "      <th>emotional</th>\n",
       "      <th>personal</th>\n",
       "      <th>meaningful</th>\n",
       "      <th>inhibited</th>\n",
       "    </tr>\n",
       "  </thead>\n",
       "  <tbody>\n",
       "    <tr>\n",
       "      <th>0</th>\n",
       "      <td>82100</td>\n",
       "      <td>61647de62d09e57a7bc044f2</td>\n",
       "      <td>...the older I get, the more I see of the worl...</td>\n",
       "      <td>Good afternoon, my loves. A cloudy day, but I ...</td>\n",
       "      <td>2</td>\n",
       "      <td>4</td>\n",
       "      <td>2</td>\n",
       "      <td>0</td>\n",
       "    </tr>\n",
       "    <tr>\n",
       "      <th>1</th>\n",
       "      <td>46135</td>\n",
       "      <td>6164b6510921bd66bee1fedb</td>\n",
       "      <td>October isn't our favorite month</td>\n",
       "      <td>Hi All.\\nWe don't really have much to update r...</td>\n",
       "      <td>3</td>\n",
       "      <td>4</td>\n",
       "      <td>4</td>\n",
       "      <td>4</td>\n",
       "    </tr>\n",
       "    <tr>\n",
       "      <th>2</th>\n",
       "      <td>93598</td>\n",
       "      <td>6164dab3d755e845fcef9ce8</td>\n",
       "      <td>11-Oct-21</td>\n",
       "      <td>The first treatment day is complete.  I spent ...</td>\n",
       "      <td>1</td>\n",
       "      <td>4</td>\n",
       "      <td>3</td>\n",
       "      <td>0</td>\n",
       "    </tr>\n",
       "    <tr>\n",
       "      <th>3</th>\n",
       "      <td>82100</td>\n",
       "      <td>61662cf8153b098d31d4cf90</td>\n",
       "      <td>12-Oct-21</td>\n",
       "      <td>Hi my loves.  Today was non-stop running, so f...</td>\n",
       "      <td>0</td>\n",
       "      <td>1</td>\n",
       "      <td>0</td>\n",
       "      <td>0</td>\n",
       "    </tr>\n",
       "    <tr>\n",
       "      <th>4</th>\n",
       "      <td>78146</td>\n",
       "      <td>616642eb8cd8c0d45df6f3c3</td>\n",
       "      <td>October 12, 2021 - Anodyne</td>\n",
       "      <td>Something I didn't mention about the James Bon...</td>\n",
       "      <td>2</td>\n",
       "      <td>3</td>\n",
       "      <td>3</td>\n",
       "      <td>1</td>\n",
       "    </tr>\n",
       "  </tbody>\n",
       "</table>\n",
       "</div>"
      ],
      "text/plain": [
       "     pid                       jid  \\\n",
       "0  82100  61647de62d09e57a7bc044f2   \n",
       "1  46135  6164b6510921bd66bee1fedb   \n",
       "2  93598  6164dab3d755e845fcef9ce8   \n",
       "3  82100  61662cf8153b098d31d4cf90   \n",
       "4  78146  616642eb8cd8c0d45df6f3c3   \n",
       "\n",
       "                                               title  \\\n",
       "0  ...the older I get, the more I see of the worl...   \n",
       "1                   October isn't our favorite month   \n",
       "2                                          11-Oct-21   \n",
       "3                                          12-Oct-21   \n",
       "4                         October 12, 2021 - Anodyne   \n",
       "\n",
       "                                          plain_text  emotional  personal  \\\n",
       "0  Good afternoon, my loves. A cloudy day, but I ...          2         4   \n",
       "1  Hi All.\\nWe don't really have much to update r...          3         4   \n",
       "2  The first treatment day is complete.  I spent ...          1         4   \n",
       "3  Hi my loves.  Today was non-stop running, so f...          0         1   \n",
       "4  Something I didn't mention about the James Bon...          2         3   \n",
       "\n",
       "   meaningful  inhibited  \n",
       "0           2          0  \n",
       "1           4          4  \n",
       "2           3          0  \n",
       "3           0          0  \n",
       "4           3          1  "
      ]
     },
     "execution_count": 200,
     "metadata": {},
     "output_type": "execute_result"
    }
   ],
   "source": [
    "data_df = text_df.merge(label_df, on=['pid','jid'], how=\"inner\") # some rows do not have ratings\n",
    "pre = len(data_df)\n",
    "data_df = data_df.dropna()\n",
    "print(f\"Dropped {pre-len(data_df)} nan rows\")\n",
    "\n",
    "data_df.head()"
   ]
  },
  {
   "cell_type": "code",
   "execution_count": 236,
   "id": "2cf41465-f862-4444-9eec-ee9e74028ac3",
   "metadata": {},
   "outputs": [
    {
     "name": "stderr",
     "output_type": "stream",
     "text": [
      "/tmp/ipykernel_3951813/2200435087.py:5: FutureWarning: Support for multi-dimensional indexing (e.g. `obj[:, None]`) is deprecated and will be removed in a future version.  Convert to a numpy array before indexing instead.\n",
      "  data = np.concatenate((data_df.emotional[:, np.newaxis],\n",
      "/tmp/ipykernel_3951813/2200435087.py:6: FutureWarning: Support for multi-dimensional indexing (e.g. `obj[:, None]`) is deprecated and will be removed in a future version.  Convert to a numpy array before indexing instead.\n",
      "  data_df.personal[:, np.newaxis],\n",
      "/tmp/ipykernel_3951813/2200435087.py:7: FutureWarning: Support for multi-dimensional indexing (e.g. `obj[:, None]`) is deprecated and will be removed in a future version.  Convert to a numpy array before indexing instead.\n",
      "  data_df.meaningful[:, np.newaxis]),\n"
     ]
    },
    {
     "data": {
      "text/html": [
       "<div>\n",
       "<style scoped>\n",
       "    .dataframe tbody tr th:only-of-type {\n",
       "        vertical-align: middle;\n",
       "    }\n",
       "\n",
       "    .dataframe tbody tr th {\n",
       "        vertical-align: top;\n",
       "    }\n",
       "\n",
       "    .dataframe thead th {\n",
       "        text-align: right;\n",
       "    }\n",
       "</style>\n",
       "<table border=\"1\" class=\"dataframe\">\n",
       "  <thead>\n",
       "    <tr style=\"text-align: right;\">\n",
       "      <th></th>\n",
       "      <th>index</th>\n",
       "      <th>pid</th>\n",
       "      <th>jid</th>\n",
       "      <th>title</th>\n",
       "      <th>plain_text</th>\n",
       "      <th>emotional</th>\n",
       "      <th>personal</th>\n",
       "      <th>meaningful</th>\n",
       "      <th>inhibited</th>\n",
       "      <th>avg_expressive</th>\n",
       "      <th>...</th>\n",
       "      <th>meaningful_1</th>\n",
       "      <th>emotional_2</th>\n",
       "      <th>personal_2</th>\n",
       "      <th>meaningful_2</th>\n",
       "      <th>emotional_3</th>\n",
       "      <th>personal_3</th>\n",
       "      <th>meaningful_3</th>\n",
       "      <th>emotional_4</th>\n",
       "      <th>personal_4</th>\n",
       "      <th>meaningful_4</th>\n",
       "    </tr>\n",
       "  </thead>\n",
       "  <tbody>\n",
       "    <tr>\n",
       "      <th>0</th>\n",
       "      <td>0</td>\n",
       "      <td>82100</td>\n",
       "      <td>61647de62d09e57a7bc044f2</td>\n",
       "      <td>...the older I get, the more I see of the worl...</td>\n",
       "      <td>Good afternoon, my loves. A cloudy day, but I ...</td>\n",
       "      <td>2</td>\n",
       "      <td>4</td>\n",
       "      <td>2</td>\n",
       "      <td>0</td>\n",
       "      <td>8</td>\n",
       "      <td>...</td>\n",
       "      <td>0</td>\n",
       "      <td>1</td>\n",
       "      <td>0</td>\n",
       "      <td>1</td>\n",
       "      <td>0</td>\n",
       "      <td>0</td>\n",
       "      <td>0</td>\n",
       "      <td>0</td>\n",
       "      <td>1</td>\n",
       "      <td>0</td>\n",
       "    </tr>\n",
       "    <tr>\n",
       "      <th>1</th>\n",
       "      <td>1</td>\n",
       "      <td>46135</td>\n",
       "      <td>6164b6510921bd66bee1fedb</td>\n",
       "      <td>October isn't our favorite month</td>\n",
       "      <td>Hi All.\\nWe don't really have much to update r...</td>\n",
       "      <td>3</td>\n",
       "      <td>4</td>\n",
       "      <td>4</td>\n",
       "      <td>4</td>\n",
       "      <td>11</td>\n",
       "      <td>...</td>\n",
       "      <td>0</td>\n",
       "      <td>0</td>\n",
       "      <td>0</td>\n",
       "      <td>0</td>\n",
       "      <td>1</td>\n",
       "      <td>0</td>\n",
       "      <td>0</td>\n",
       "      <td>0</td>\n",
       "      <td>1</td>\n",
       "      <td>1</td>\n",
       "    </tr>\n",
       "    <tr>\n",
       "      <th>2</th>\n",
       "      <td>2</td>\n",
       "      <td>93598</td>\n",
       "      <td>6164dab3d755e845fcef9ce8</td>\n",
       "      <td>11-Oct-21</td>\n",
       "      <td>The first treatment day is complete.  I spent ...</td>\n",
       "      <td>1</td>\n",
       "      <td>4</td>\n",
       "      <td>3</td>\n",
       "      <td>0</td>\n",
       "      <td>8</td>\n",
       "      <td>...</td>\n",
       "      <td>0</td>\n",
       "      <td>0</td>\n",
       "      <td>0</td>\n",
       "      <td>0</td>\n",
       "      <td>0</td>\n",
       "      <td>0</td>\n",
       "      <td>1</td>\n",
       "      <td>0</td>\n",
       "      <td>1</td>\n",
       "      <td>0</td>\n",
       "    </tr>\n",
       "    <tr>\n",
       "      <th>3</th>\n",
       "      <td>3</td>\n",
       "      <td>82100</td>\n",
       "      <td>61662cf8153b098d31d4cf90</td>\n",
       "      <td>12-Oct-21</td>\n",
       "      <td>Hi my loves.  Today was non-stop running, so f...</td>\n",
       "      <td>0</td>\n",
       "      <td>1</td>\n",
       "      <td>0</td>\n",
       "      <td>0</td>\n",
       "      <td>1</td>\n",
       "      <td>...</td>\n",
       "      <td>0</td>\n",
       "      <td>0</td>\n",
       "      <td>0</td>\n",
       "      <td>0</td>\n",
       "      <td>0</td>\n",
       "      <td>0</td>\n",
       "      <td>0</td>\n",
       "      <td>0</td>\n",
       "      <td>0</td>\n",
       "      <td>0</td>\n",
       "    </tr>\n",
       "    <tr>\n",
       "      <th>4</th>\n",
       "      <td>4</td>\n",
       "      <td>78146</td>\n",
       "      <td>616642eb8cd8c0d45df6f3c3</td>\n",
       "      <td>October 12, 2021 - Anodyne</td>\n",
       "      <td>Something I didn't mention about the James Bon...</td>\n",
       "      <td>2</td>\n",
       "      <td>3</td>\n",
       "      <td>3</td>\n",
       "      <td>1</td>\n",
       "      <td>8</td>\n",
       "      <td>...</td>\n",
       "      <td>0</td>\n",
       "      <td>1</td>\n",
       "      <td>0</td>\n",
       "      <td>0</td>\n",
       "      <td>0</td>\n",
       "      <td>1</td>\n",
       "      <td>1</td>\n",
       "      <td>0</td>\n",
       "      <td>0</td>\n",
       "      <td>0</td>\n",
       "    </tr>\n",
       "  </tbody>\n",
       "</table>\n",
       "<p>5 rows × 29 columns</p>\n",
       "</div>"
      ],
      "text/plain": [
       "   index    pid                       jid  \\\n",
       "0      0  82100  61647de62d09e57a7bc044f2   \n",
       "1      1  46135  6164b6510921bd66bee1fedb   \n",
       "2      2  93598  6164dab3d755e845fcef9ce8   \n",
       "3      3  82100  61662cf8153b098d31d4cf90   \n",
       "4      4  78146  616642eb8cd8c0d45df6f3c3   \n",
       "\n",
       "                                               title  \\\n",
       "0  ...the older I get, the more I see of the worl...   \n",
       "1                   October isn't our favorite month   \n",
       "2                                          11-Oct-21   \n",
       "3                                          12-Oct-21   \n",
       "4                         October 12, 2021 - Anodyne   \n",
       "\n",
       "                                          plain_text  emotional  personal  \\\n",
       "0  Good afternoon, my loves. A cloudy day, but I ...          2         4   \n",
       "1  Hi All.\\nWe don't really have much to update r...          3         4   \n",
       "2  The first treatment day is complete.  I spent ...          1         4   \n",
       "3  Hi my loves.  Today was non-stop running, so f...          0         1   \n",
       "4  Something I didn't mention about the James Bon...          2         3   \n",
       "\n",
       "   meaningful  inhibited  avg_expressive  ...  meaningful_1  emotional_2  \\\n",
       "0           2          0               8  ...             0            1   \n",
       "1           4          4              11  ...             0            0   \n",
       "2           3          0               8  ...             0            0   \n",
       "3           0          0               1  ...             0            0   \n",
       "4           3          1               8  ...             0            1   \n",
       "\n",
       "   personal_2 meaningful_2  emotional_3  personal_3  meaningful_3  \\\n",
       "0           0            1            0           0             0   \n",
       "1           0            0            1           0             0   \n",
       "2           0            0            0           0             1   \n",
       "3           0            0            0           0             0   \n",
       "4           0            0            0           1             1   \n",
       "\n",
       "   emotional_4  personal_4  meaningful_4  \n",
       "0            0           1             0  \n",
       "1            0           1             1  \n",
       "2            0           1             0  \n",
       "3            0           0             0  \n",
       "4            0           0             0  \n",
       "\n",
       "[5 rows x 29 columns]"
      ]
     },
     "execution_count": 236,
     "metadata": {},
     "output_type": "execute_result"
    }
   ],
   "source": [
    "data_df['avg_expressive'] = data_df.emotional + data_df.personal + data_df.meaningful\n",
    "data_df['is_expressive_v0'] = (data_df['avg_expressive'] > 7.37).astype(int)\n",
    "data_df['is_expressive_v1'] = ((data_df['emotional'] > 2.08) & (data_df['personal'] > 2.58) & (data_df['meaningful'] > 2.71)).astype(int)\n",
    "\n",
    "data = np.concatenate((data_df.emotional[:, np.newaxis], \n",
    "                       data_df.personal[:, np.newaxis], \n",
    "                       data_df.meaningful[:, np.newaxis]), \n",
    "                      axis=1)\n",
    "\n",
    "# Calculate the mean of the points, i.e. the 'center' of the cloud\n",
    "datamean = data.mean(axis=0)\n",
    "\n",
    "# Do an SVD on the mean-centered data.\n",
    "uu, dd, vv = np.linalg.svd(data - datamean)\n",
    "\n",
    "# attempt at using 1st PC to determine split\n",
    "data_df['is_expressive_v1_1'] = ((data_df['emotional'] > datamean[0]-vv[0, 0]) & (data_df['personal'] > datamean[1]-vv[0, 1]) & (data_df['meaningful'] > datamean[2]-vv[0, 2])).astype(int)\n",
    "for i in range(5):\n",
    "    for col in ['emotional','personal','meaningful']:\n",
    "        data_df[f\"{col}_{i}\"] = (data_df[col] == i).astype(int)\n",
    "data_df.head()"
   ]
  },
  {
   "cell_type": "markdown",
   "id": "a1e13b86-2c43-4c6e-a3eb-6a01c1a4201b",
   "metadata": {},
   "source": [
    "# Descriptive stats"
   ]
  },
  {
   "cell_type": "code",
   "execution_count": 55,
   "id": "aeb2fbbf-9b49-44f7-8f60-8d13540894f4",
   "metadata": {},
   "outputs": [
    {
     "name": "stdout",
     "output_type": "stream",
     "text": [
      "                pid   emotional    personal  meaningful   inhibited  \\\n",
      "count    919.000000  919.000000  919.000000  919.000000  919.000000   \n",
      "mean   58059.694233    2.080522    2.579978    2.711643    0.903156   \n",
      "std    27242.326636    1.151886    1.094585    1.017593    1.034472   \n",
      "min    10267.000000    0.000000    0.000000    0.000000    0.000000   \n",
      "25%    31456.000000    1.000000    2.000000    2.000000    0.000000   \n",
      "50%    56786.000000    2.000000    3.000000    3.000000    1.000000   \n",
      "75%    82311.000000    3.000000    4.000000    4.000000    1.000000   \n",
      "max    99084.000000    4.000000    4.000000    4.000000    4.000000   \n",
      "\n",
      "       avg_expressive  \n",
      "count      919.000000  \n",
      "mean         7.372144  \n",
      "std          2.781578  \n",
      "min          0.000000  \n",
      "25%          5.000000  \n",
      "50%          7.000000  \n",
      "75%          9.000000  \n",
      "max         12.000000  \n"
     ]
    }
   ],
   "source": [
    "\n",
    "print(data_df.describe())"
   ]
  },
  {
   "cell_type": "code",
   "execution_count": 79,
   "id": "0e603d5a-28a0-48f4-91c9-0f23b5b021fc",
   "metadata": {},
   "outputs": [
    {
     "name": "stdout",
     "output_type": "stream",
     "text": [
      "AxesSubplot(0.125,0.11;0.775x0.77)\n"
     ]
    },
    {
     "data": {
      "image/png": "[encoded data removed]",
      "text/plain": [
       "<Figure size 640x480 with 1 Axes>"
      ]
     },
     "metadata": {},
     "output_type": "display_data"
    }
   ],
   "source": [
    "print(data_df.avg_expressive.hist(bins=10))"
   ]
  },
  {
   "cell_type": "code",
   "execution_count": 65,
   "id": "25d06835-7b31-4509-a16a-62cda183c0d8",
   "metadata": {},
   "outputs": [
    {
     "name": "stdout",
     "output_type": "stream",
     "text": [
      "AxesSubplot(0.125,0.11;0.775x0.77)\n"
     ]
    },
    {
     "data": {
      "image/png": "[encoded data removed]",
      "text/plain": [
       "<Figure size 640x480 with 1 Axes>"
      ]
     },
     "metadata": {},
     "output_type": "display_data"
    }
   ],
   "source": [
    "print(data_df.is_expressive_v0.hist(bins=10))"
   ]
  },
  {
   "cell_type": "code",
   "execution_count": 67,
   "id": "cd8ebaa0-7112-407f-bb9e-b3f1337c8b25",
   "metadata": {},
   "outputs": [
    {
     "name": "stdout",
     "output_type": "stream",
     "text": [
      "AxesSubplot(0.125,0.11;0.775x0.77)\n"
     ]
    },
    {
     "data": {
      "image/png": "[encoded data removed]",
      "text/plain": [
       "<Figure size 640x480 with 1 Axes>"
      ]
     },
     "metadata": {},
     "output_type": "display_data"
    }
   ],
   "source": [
    "print(data_df.is_expressive_v1.hist(bins=10))"
   ]
  },
  {
   "cell_type": "code",
   "execution_count": 36,
   "id": "26183c8a-b1c1-4d37-a6c9-f626c2dbe634",
   "metadata": {},
   "outputs": [
    {
     "data": {
      "text/plain": [
       "<AxesSubplot:>"
      ]
     },
     "execution_count": 36,
     "metadata": {},
     "output_type": "execute_result"
    },
    {
     "data": {
      "image/png": "[encoded data removed]",
      "text/plain": [
       "<Figure size 640x480 with 1 Axes>"
      ]
     },
     "metadata": {},
     "output_type": "display_data"
    }
   ],
   "source": [
    "data_df.emotional.hist(bins=10)"
   ]
  },
  {
   "cell_type": "code",
   "execution_count": 37,
   "id": "33271e78-8609-46d5-8a4f-b208536876a3",
   "metadata": {},
   "outputs": [
    {
     "data": {
      "text/plain": [
       "<AxesSubplot:>"
      ]
     },
     "execution_count": 37,
     "metadata": {},
     "output_type": "execute_result"
    },
    {
     "data": {
      "image/png": "[encoded data removed]",
      "text/plain": [
       "<Figure size 640x480 with 1 Axes>"
      ]
     },
     "metadata": {},
     "output_type": "display_data"
    }
   ],
   "source": [
    "data_df.personal.hist(bins=10)"
   ]
  },
  {
   "cell_type": "code",
   "execution_count": 39,
   "id": "ab2f1c08-b767-4e4f-9de3-7863ab6b27d1",
   "metadata": {},
   "outputs": [
    {
     "data": {
      "text/plain": [
       "<AxesSubplot:>"
      ]
     },
     "execution_count": 39,
     "metadata": {},
     "output_type": "execute_result"
    },
    {
     "data": {
      "image/png": "[encoded data removed]",
      "text/plain": [
       "<Figure size 640x480 with 1 Axes>"
      ]
     },
     "metadata": {},
     "output_type": "display_data"
    }
   ],
   "source": [
    "data_df.meaningful.hist(bins=10)"
   ]
  },
  {
   "cell_type": "code",
   "execution_count": 38,
   "id": "1a443cd6-b170-48ea-ab01-ad8988c5dad9",
   "metadata": {},
   "outputs": [
    {
     "data": {
      "text/plain": [
       "<AxesSubplot:>"
      ]
     },
     "execution_count": 38,
     "metadata": {},
     "output_type": "execute_result"
    },
    {
     "data": {
      "image/png": "[encoded data removed]",
      "text/plain": [
       "<Figure size 640x480 with 1 Axes>"
      ]
     },
     "metadata": {},
     "output_type": "display_data"
    }
   ],
   "source": [
    "data_df.inhibited.hist(bins=10)"
   ]
  },
  {
   "cell_type": "markdown",
   "id": "896a88e8-40d4-4e53-83e8-ccda38fb8ec0",
   "metadata": {},
   "source": [
    "# Modeling"
   ]
  },
  {
   "cell_type": "code",
   "execution_count": 24,
   "id": "dd2189d6-154e-4301-84e3-b8c8467bc2c2",
   "metadata": {},
   "outputs": [
    {
     "name": "stdout",
     "output_type": "stream",
     "text": [
      "  (0, 6807)\t4\n",
      "  (0, 828)\t1\n",
      "  (0, 10108)\t11\n",
      "  (0, 9158)\t4\n",
      "  (0, 3304)\t1\n",
      "  (0, 4235)\t2\n",
      "  (0, 2541)\t3\n",
      "  (0, 5961)\t1\n",
      "  (0, 6918)\t2\n",
      "  (0, 1056)\t25\n",
      "  (0, 6784)\t4\n",
      "  (0, 7171)\t2\n",
      "  (0, 6725)\t1\n",
      "  (0, 9504)\t9\n",
      "  (0, 15495)\t18\n",
      "  (0, 6697)\t1\n",
      "  (0, 10579)\t12\n",
      "  (0, 1119)\t2\n",
      "  (0, 17330)\t1\n",
      "  (0, 8708)\t1\n",
      "  (0, 16958)\t1\n",
      "  (0, 15738)\t11\n",
      "  (0, 8414)\t2\n",
      "  (0, 834)\t2\n",
      "  (0, 13746)\t7\n",
      "  :\t:\n",
      "  (918, 7431)\t1\n",
      "  (918, 13900)\t1\n",
      "  (918, 3405)\t2\n",
      "  (918, 13274)\t1\n",
      "  (918, 960)\t1\n",
      "  (918, 16550)\t1\n",
      "  (918, 7860)\t1\n",
      "  (918, 9739)\t1\n",
      "  (918, 3654)\t1\n",
      "  (918, 2357)\t1\n",
      "  (918, 1934)\t1\n",
      "  (918, 946)\t1\n",
      "  (918, 7864)\t1\n",
      "  (918, 13703)\t1\n",
      "  (918, 15967)\t1\n",
      "  (918, 8944)\t1\n",
      "  (918, 13553)\t1\n",
      "  (918, 14352)\t1\n",
      "  (918, 10853)\t1\n",
      "  (918, 961)\t1\n",
      "  (918, 1699)\t1\n",
      "  (918, 3401)\t1\n",
      "  (918, 9681)\t1\n",
      "  (918, 15187)\t1\n",
      "  (918, 10826)\t1\n"
     ]
    }
   ],
   "source": [
    "count = CountVectorizer()\n",
    "word_count=count.fit_transform(data_df.plain_text)\n",
    "print(word_count)"
   ]
  },
  {
   "cell_type": "code",
   "execution_count": 28,
   "id": "36f1a98e-4635-4b0a-8cb5-4d08526d1486",
   "metadata": {},
   "outputs": [],
   "source": [
    "tfidf_transformer=TfidfTransformer(smooth_idf=True,use_idf=True)\n",
    "tfidf_transformer.fit(word_count)\n",
    "df_idf = pd.DataFrame(tfidf_transformer.idf_, index=count.get_feature_names_out(),columns=[\"idf_weights\"])"
   ]
  },
  {
   "cell_type": "code",
   "execution_count": 26,
   "id": "fe039441-7e2a-4a76-8a40-af871bf32f16",
   "metadata": {},
   "outputs": [
    {
     "data": {
      "text/html": [
       "<div>\n",
       "<style scoped>\n",
       "    .dataframe tbody tr th:only-of-type {\n",
       "        vertical-align: middle;\n",
       "    }\n",
       "\n",
       "    .dataframe tbody tr th {\n",
       "        vertical-align: top;\n",
       "    }\n",
       "\n",
       "    .dataframe thead th {\n",
       "        text-align: right;\n",
       "    }\n",
       "</style>\n",
       "<table border=\"1\" class=\"dataframe\">\n",
       "  <thead>\n",
       "    <tr style=\"text-align: right;\">\n",
       "      <th></th>\n",
       "      <th>idf_weights</th>\n",
       "    </tr>\n",
       "  </thead>\n",
       "  <tbody>\n",
       "    <tr>\n",
       "      <th>to</th>\n",
       "      <td>1.029787</td>\n",
       "    </tr>\n",
       "    <tr>\n",
       "      <th>the</th>\n",
       "      <td>1.033152</td>\n",
       "    </tr>\n",
       "    <tr>\n",
       "      <th>and</th>\n",
       "      <td>1.042182</td>\n",
       "    </tr>\n",
       "    <tr>\n",
       "      <th>of</th>\n",
       "      <td>1.098140</td>\n",
       "    </tr>\n",
       "    <tr>\n",
       "      <th>for</th>\n",
       "      <td>1.100541</td>\n",
       "    </tr>\n",
       "    <tr>\n",
       "      <th>...</th>\n",
       "      <td>...</td>\n",
       "    </tr>\n",
       "    <tr>\n",
       "      <th>pictured</th>\n",
       "      <td>7.131226</td>\n",
       "    </tr>\n",
       "    <tr>\n",
       "      <th>aide</th>\n",
       "      <td>7.131226</td>\n",
       "    </tr>\n",
       "    <tr>\n",
       "      <th>flank</th>\n",
       "      <td>7.131226</td>\n",
       "    </tr>\n",
       "    <tr>\n",
       "      <th>flagbut</th>\n",
       "      <td>7.131226</td>\n",
       "    </tr>\n",
       "    <tr>\n",
       "      <th>zzzzzzzzz</th>\n",
       "      <td>7.131226</td>\n",
       "    </tr>\n",
       "  </tbody>\n",
       "</table>\n",
       "<p>17407 rows × 1 columns</p>\n",
       "</div>"
      ],
      "text/plain": [
       "           idf_weights\n",
       "to            1.029787\n",
       "the           1.033152\n",
       "and           1.042182\n",
       "of            1.098140\n",
       "for           1.100541\n",
       "...                ...\n",
       "pictured      7.131226\n",
       "aide          7.131226\n",
       "flank         7.131226\n",
       "flagbut       7.131226\n",
       "zzzzzzzzz     7.131226\n",
       "\n",
       "[17407 rows x 1 columns]"
      ]
     },
     "execution_count": 26,
     "metadata": {},
     "output_type": "execute_result"
    }
   ],
   "source": [
    "#inverse document frequency\n",
    "df_idf.sort_values(by=['idf_weights'])"
   ]
  },
  {
   "cell_type": "code",
   "execution_count": 31,
   "id": "6d6caa33-84f4-4c7f-ae05-35ffddacd105",
   "metadata": {},
   "outputs": [
    {
     "data": {
      "text/html": [
       "<div>\n",
       "<style scoped>\n",
       "    .dataframe tbody tr th:only-of-type {\n",
       "        vertical-align: middle;\n",
       "    }\n",
       "\n",
       "    .dataframe tbody tr th {\n",
       "        vertical-align: top;\n",
       "    }\n",
       "\n",
       "    .dataframe thead th {\n",
       "        text-align: right;\n",
       "    }\n",
       "</style>\n",
       "<table border=\"1\" class=\"dataframe\">\n",
       "  <thead>\n",
       "    <tr style=\"text-align: right;\">\n",
       "      <th></th>\n",
       "      <th>tfidf</th>\n",
       "    </tr>\n",
       "  </thead>\n",
       "  <tbody>\n",
       "    <tr>\n",
       "      <th>chris</th>\n",
       "      <td>0.257194</td>\n",
       "    </tr>\n",
       "    <tr>\n",
       "      <th>that</th>\n",
       "      <td>0.182597</td>\n",
       "    </tr>\n",
       "    <tr>\n",
       "      <th>msk</th>\n",
       "      <td>0.157230</td>\n",
       "    </tr>\n",
       "    <tr>\n",
       "      <th>and</th>\n",
       "      <td>0.149395</td>\n",
       "    </tr>\n",
       "    <tr>\n",
       "      <th>she</th>\n",
       "      <td>0.146304</td>\n",
       "    </tr>\n",
       "    <tr>\n",
       "      <th>...</th>\n",
       "      <td>...</td>\n",
       "    </tr>\n",
       "    <tr>\n",
       "      <th>fairbanks</th>\n",
       "      <td>0.000000</td>\n",
       "    </tr>\n",
       "    <tr>\n",
       "      <th>fairing</th>\n",
       "      <td>0.000000</td>\n",
       "    </tr>\n",
       "    <tr>\n",
       "      <th>fairly</th>\n",
       "      <td>0.000000</td>\n",
       "    </tr>\n",
       "    <tr>\n",
       "      <th>fairview</th>\n",
       "      <td>0.000000</td>\n",
       "    </tr>\n",
       "    <tr>\n",
       "      <th>zzzzzzzzz</th>\n",
       "      <td>0.000000</td>\n",
       "    </tr>\n",
       "  </tbody>\n",
       "</table>\n",
       "<p>17407 rows × 1 columns</p>\n",
       "</div>"
      ],
      "text/plain": [
       "              tfidf\n",
       "chris      0.257194\n",
       "that       0.182597\n",
       "msk        0.157230\n",
       "and        0.149395\n",
       "she        0.146304\n",
       "...             ...\n",
       "fairbanks  0.000000\n",
       "fairing    0.000000\n",
       "fairly     0.000000\n",
       "fairview   0.000000\n",
       "zzzzzzzzz  0.000000\n",
       "\n",
       "[17407 rows x 1 columns]"
      ]
     },
     "execution_count": 31,
     "metadata": {},
     "output_type": "execute_result"
    }
   ],
   "source": [
    "#tfidf\n",
    "tf_idf_vector=tfidf_transformer.transform(word_count)\n",
    "feature_names = count.get_feature_names_out()\n",
    "first_document_vector=tf_idf_vector[1]\n",
    "df_tfifd= pd.DataFrame(first_document_vector.T.todense(), index=feature_names, columns=[\"tfidf\"])\n",
    "df_tfifd.sort_values(by=[\"tfidf\"],ascending=False)"
   ]
  },
  {
   "cell_type": "code",
   "execution_count": 198,
   "id": "63b59e3d-9ccd-4de7-9daa-89779d2ffe72",
   "metadata": {},
   "outputs": [
    {
     "name": "stderr",
     "output_type": "stream",
     "text": [
      "[nltk_data] Downloading package stopwords to\n",
      "[nltk_data]     /home/lana/zentx005/nltk_data...\n",
      "[nltk_data]   Package stopwords is already up-to-date!\n",
      "[nltk_data] Downloading package wordnet to\n",
      "[nltk_data]     /home/lana/zentx005/nltk_data...\n",
      "[nltk_data]   Package wordnet is already up-to-date!\n",
      "[nltk_data] Downloading package omw-1.4 to\n",
      "[nltk_data]     /home/lana/zentx005/nltk_data...\n",
      "[nltk_data]   Package omw-1.4 is already up-to-date!\n"
     ]
    }
   ],
   "source": [
    "nltk.download('stopwords')\n",
    "nltk.download('wordnet')\n",
    "nltk.download('omw-1.4')\n",
    "\n",
    "#stopword removal and lemmatization\n",
    "stopwords = nltk.corpus.stopwords.words('english')\n",
    "lemmatizer = WordNetLemmatizer()\n",
    "\n",
    "def custom_pre_processing(dataframe):\n",
    "    dataframe = dataframe.reset_index()\n",
    "    dataframe[\"plain_text_custproc\"] = \"\"\n",
    "    #text pre processing\n",
    "    for i in range(0, len(dataframe)):\n",
    "        review = re.sub('[^a-zA-Z]', ' ', dataframe.iloc[i].plain_text)\n",
    "        review = review.lower()\n",
    "        review = review.split()\n",
    "        review = [lemmatizer.lemmatize(word) for word in review if not word in set(stopwords)]\n",
    "        review = ' '.join(review)\n",
    "        dataframe.loc[i, [\"plain_text_custproc\"]] = review\n",
    "    return dataframe\n"
   ]
  },
  {
   "cell_type": "code",
   "execution_count": 202,
   "id": "5d4f4b28-765f-462e-8d4c-8533c1483ae5",
   "metadata": {},
   "outputs": [
    {
     "data": {
      "text/html": [
       "<div>\n",
       "<style scoped>\n",
       "    .dataframe tbody tr th:only-of-type {\n",
       "        vertical-align: middle;\n",
       "    }\n",
       "\n",
       "    .dataframe tbody tr th {\n",
       "        vertical-align: top;\n",
       "    }\n",
       "\n",
       "    .dataframe thead th {\n",
       "        text-align: right;\n",
       "    }\n",
       "</style>\n",
       "<table border=\"1\" class=\"dataframe\">\n",
       "  <thead>\n",
       "    <tr style=\"text-align: right;\">\n",
       "      <th></th>\n",
       "      <th>index</th>\n",
       "      <th>pid</th>\n",
       "      <th>jid</th>\n",
       "      <th>title</th>\n",
       "      <th>plain_text</th>\n",
       "      <th>emotional</th>\n",
       "      <th>personal</th>\n",
       "      <th>meaningful</th>\n",
       "      <th>inhibited</th>\n",
       "      <th>avg_expressive</th>\n",
       "      <th>is_expressive_v0</th>\n",
       "      <th>is_expressive_v1</th>\n",
       "      <th>is_expressive_v1_1</th>\n",
       "      <th>plain_text_custproc</th>\n",
       "    </tr>\n",
       "  </thead>\n",
       "  <tbody>\n",
       "    <tr>\n",
       "      <th>0</th>\n",
       "      <td>0</td>\n",
       "      <td>82100</td>\n",
       "      <td>61647de62d09e57a7bc044f2</td>\n",
       "      <td>...the older I get, the more I see of the worl...</td>\n",
       "      <td>Good afternoon, my loves. A cloudy day, but I ...</td>\n",
       "      <td>2</td>\n",
       "      <td>4</td>\n",
       "      <td>2</td>\n",
       "      <td>0</td>\n",
       "      <td>8</td>\n",
       "      <td>1</td>\n",
       "      <td>0</td>\n",
       "      <td>0</td>\n",
       "      <td>good afternoon love cloudy day feel great god ...</td>\n",
       "    </tr>\n",
       "    <tr>\n",
       "      <th>1</th>\n",
       "      <td>1</td>\n",
       "      <td>46135</td>\n",
       "      <td>6164b6510921bd66bee1fedb</td>\n",
       "      <td>October isn't our favorite month</td>\n",
       "      <td>Hi All.\\nWe don't really have much to update r...</td>\n",
       "      <td>3</td>\n",
       "      <td>4</td>\n",
       "      <td>4</td>\n",
       "      <td>4</td>\n",
       "      <td>11</td>\n",
       "      <td>1</td>\n",
       "      <td>1</td>\n",
       "      <td>1</td>\n",
       "      <td>hi really much update right point chris medica...</td>\n",
       "    </tr>\n",
       "    <tr>\n",
       "      <th>2</th>\n",
       "      <td>2</td>\n",
       "      <td>93598</td>\n",
       "      <td>6164dab3d755e845fcef9ce8</td>\n",
       "      <td>11-Oct-21</td>\n",
       "      <td>The first treatment day is complete.  I spent ...</td>\n",
       "      <td>1</td>\n",
       "      <td>4</td>\n",
       "      <td>3</td>\n",
       "      <td>0</td>\n",
       "      <td>8</td>\n",
       "      <td>1</td>\n",
       "      <td>0</td>\n",
       "      <td>0</td>\n",
       "      <td>first treatment day complete spent entire day ...</td>\n",
       "    </tr>\n",
       "    <tr>\n",
       "      <th>3</th>\n",
       "      <td>3</td>\n",
       "      <td>82100</td>\n",
       "      <td>61662cf8153b098d31d4cf90</td>\n",
       "      <td>12-Oct-21</td>\n",
       "      <td>Hi my loves.  Today was non-stop running, so f...</td>\n",
       "      <td>0</td>\n",
       "      <td>1</td>\n",
       "      <td>0</td>\n",
       "      <td>0</td>\n",
       "      <td>1</td>\n",
       "      <td>0</td>\n",
       "      <td>0</td>\n",
       "      <td>0</td>\n",
       "      <td>hi love today non stop running first thing tom...</td>\n",
       "    </tr>\n",
       "    <tr>\n",
       "      <th>4</th>\n",
       "      <td>4</td>\n",
       "      <td>78146</td>\n",
       "      <td>616642eb8cd8c0d45df6f3c3</td>\n",
       "      <td>October 12, 2021 - Anodyne</td>\n",
       "      <td>Something I didn't mention about the James Bon...</td>\n",
       "      <td>2</td>\n",
       "      <td>3</td>\n",
       "      <td>3</td>\n",
       "      <td>1</td>\n",
       "      <td>8</td>\n",
       "      <td>1</td>\n",
       "      <td>0</td>\n",
       "      <td>1</td>\n",
       "      <td>something mention james bond movie outing sund...</td>\n",
       "    </tr>\n",
       "  </tbody>\n",
       "</table>\n",
       "</div>"
      ],
      "text/plain": [
       "   index    pid                       jid  \\\n",
       "0      0  82100  61647de62d09e57a7bc044f2   \n",
       "1      1  46135  6164b6510921bd66bee1fedb   \n",
       "2      2  93598  6164dab3d755e845fcef9ce8   \n",
       "3      3  82100  61662cf8153b098d31d4cf90   \n",
       "4      4  78146  616642eb8cd8c0d45df6f3c3   \n",
       "\n",
       "                                               title  \\\n",
       "0  ...the older I get, the more I see of the worl...   \n",
       "1                   October isn't our favorite month   \n",
       "2                                          11-Oct-21   \n",
       "3                                          12-Oct-21   \n",
       "4                         October 12, 2021 - Anodyne   \n",
       "\n",
       "                                          plain_text  emotional  personal  \\\n",
       "0  Good afternoon, my loves. A cloudy day, but I ...          2         4   \n",
       "1  Hi All.\\nWe don't really have much to update r...          3         4   \n",
       "2  The first treatment day is complete.  I spent ...          1         4   \n",
       "3  Hi my loves.  Today was non-stop running, so f...          0         1   \n",
       "4  Something I didn't mention about the James Bon...          2         3   \n",
       "\n",
       "   meaningful  inhibited  avg_expressive  is_expressive_v0  is_expressive_v1  \\\n",
       "0           2          0               8                 1                 0   \n",
       "1           4          4              11                 1                 1   \n",
       "2           3          0               8                 1                 0   \n",
       "3           0          0               1                 0                 0   \n",
       "4           3          1               8                 1                 0   \n",
       "\n",
       "   is_expressive_v1_1                                plain_text_custproc  \n",
       "0                   0  good afternoon love cloudy day feel great god ...  \n",
       "1                   1  hi really much update right point chris medica...  \n",
       "2                   0  first treatment day complete spent entire day ...  \n",
       "3                   0  hi love today non stop running first thing tom...  \n",
       "4                   1  something mention james bond movie outing sund...  "
      ]
     },
     "execution_count": 202,
     "metadata": {},
     "output_type": "execute_result"
    }
   ],
   "source": [
    "data_df = custom_pre_processing(data_df)\n",
    "data_df.head()"
   ]
  },
  {
   "cell_type": "code",
   "execution_count": 239,
   "id": "089cec1c-631e-4816-8de3-f3583d491223",
   "metadata": {},
   "outputs": [
    {
     "name": "stdout",
     "output_type": "stream",
     "text": [
      "827\n",
      "92\n"
     ]
    }
   ],
   "source": [
    "data = ['plain_text_custproc']\n",
    "v0_attributes = ['is_expressive_v0']\n",
    "v1_attributes = ['is_expressive_v1']\n",
    "\n",
    "X_train, X_test, y_train, y_test = train_test_split(data_df[data], data_df[v0_attributes], train_size=0.9, random_state=2)\n",
    "print(len(X_train))\n",
    "print(len(X_test))"
   ]
  },
  {
   "cell_type": "code",
   "execution_count": 218,
   "id": "169a0314-e906-4d69-aaa5-51d19ff25678",
   "metadata": {},
   "outputs": [
    {
     "name": "stdout",
     "output_type": "stream",
     "text": [
      "n_samples: 827, n_features: 14181\n",
      "n_samples: 92, n_features: 14181\n"
     ]
    }
   ],
   "source": [
    "#tf idf\n",
    "tf_idf = TfidfVectorizer() # TODO: Hyperparameter tuning for optimal parameters here.\n",
    "#applying tf idf to training data\n",
    "X_train_tf = tf_idf.fit_transform(X_train.plain_text_custproc.tolist())\n",
    "print(\"n_samples: %d, n_features: %d\" % X_train_tf.shape)\n",
    "#applying tf idf to training data\n",
    "X_test_tf = tf_idf.transform(X_test.plain_text_custproc.tolist())\n",
    "print(\"n_samples: %d, n_features: %d\" % X_test_tf.shape)"
   ]
  },
  {
   "cell_type": "markdown",
   "id": "4e25b07e-fb7a-451e-bfb6-5f32dc591ed3",
   "metadata": {},
   "source": [
    "## Naive Bayes"
   ]
  },
  {
   "cell_type": "code",
   "execution_count": 227,
   "id": "31b8dde4-678e-43cc-80b4-042a8e75a0f4",
   "metadata": {},
   "outputs": [],
   "source": [
    "#naive bayes classifier\n",
    "naive_bayes_classifier = MultinomialNB()\n",
    "naive_bayes_classifier.fit(X_train_tf, y_train.is_expressive_v0)\n",
    "#predicted y\n",
    "y_pred = naive_bayes_classifier.predict(X_test_tf)"
   ]
  },
  {
   "cell_type": "code",
   "execution_count": 228,
   "id": "1f3e5eb8-e10c-4edc-a49c-05ba2197b793",
   "metadata": {},
   "outputs": [
    {
     "name": "stdout",
     "output_type": "stream",
     "text": [
      "                precision    recall  f1-score   support\n",
      "\n",
      "    Expressive       0.69      0.86      0.77        50\n",
      "Not Expressive       0.77      0.55      0.64        42\n",
      "\n",
      "      accuracy                           0.72        92\n",
      "     macro avg       0.73      0.70      0.70        92\n",
      "  weighted avg       0.73      0.72      0.71        92\n",
      "\n",
      "Confusion matrix:\n",
      "[[43  7]\n",
      " [19 23]]\n"
     ]
    }
   ],
   "source": [
    "print(metrics.classification_report(y_test, y_pred, target_names=['Expressive', 'Not Expressive']))\n",
    "print(\"Confusion matrix:\")\n",
    "print(metrics.confusion_matrix(y_test, y_pred))"
   ]
  },
  {
   "cell_type": "markdown",
   "id": "799dcc90-980c-418b-bc13-05a26914bee4",
   "metadata": {},
   "source": [
    "## SVM"
   ]
  },
  {
   "cell_type": "code",
   "execution_count": 233,
   "id": "08941bad-86b6-4b90-a82f-45cc70a6e6c8",
   "metadata": {},
   "outputs": [],
   "source": [
    "# training a linear SVM classifier\n",
    "svm_model_linear = SVC(kernel = 'linear', C = 1).fit(X_train_tf, y_train.is_expressive_v0)\n",
    "svm_predictions = svm_model_linear.predict(X_test_tf)"
   ]
  },
  {
   "cell_type": "code",
   "execution_count": 235,
   "id": "8674fccd-b864-4ef2-ad3c-ca2999f56937",
   "metadata": {},
   "outputs": [
    {
     "name": "stdout",
     "output_type": "stream",
     "text": [
      "                precision    recall  f1-score   support\n",
      "\n",
      "    Expressive       0.75      0.88      0.81        50\n",
      "Not Expressive       0.82      0.64      0.72        42\n",
      "\n",
      "      accuracy                           0.77        92\n",
      "     macro avg       0.78      0.76      0.76        92\n",
      "  weighted avg       0.78      0.77      0.77        92\n",
      "\n",
      "Confusion matrix:\n",
      "[[44  6]\n",
      " [15 27]]\n"
     ]
    }
   ],
   "source": [
    "print(metrics.classification_report(y_test, svm_predictions, target_names=['Expressive', 'Not Expressive']))\n",
    "print(\"Confusion matrix:\")\n",
    "print(metrics.confusion_matrix(y_test, svm_predictions))"
   ]
  },
  {
   "cell_type": "markdown",
   "id": "2dea50b0-8005-4b99-8fbc-5774d4dfe6b7",
   "metadata": {},
   "source": [
    "### SVM with Multi-class"
   ]
  },
  {
   "cell_type": "code",
   "execution_count": 256,
   "id": "b5063d34-7157-4262-834c-5c52e208ac61",
   "metadata": {},
   "outputs": [
    {
     "name": "stdout",
     "output_type": "stream",
     "text": [
      "827\n",
      "92\n"
     ]
    }
   ],
   "source": [
    "# training a linear SVM classifier\n",
    "multi_class_labels = ['meaningful_0',\n",
    "                      'meaningful_1',\n",
    "                      'meaningful_2',\n",
    "                      'meaningful_3',\n",
    "                      'meaningful_4',\n",
    "                      'emotional_0',\n",
    "                      'emotional_1',\n",
    "                      'emotional_2',\n",
    "                      'emotional_3',\n",
    "                      'emotional_4',\n",
    "                      'personal_0',\n",
    "                      'personal_1',\n",
    "                      'personal_2',\n",
    "                      'personal_3',\n",
    "                      'personal_4',\n",
    "                     ]\n",
    "\n",
    "\n",
    "X_train, X_test, y_train, y_test = train_test_split(data_df[data], data_df.meaningful, train_size=0.9, random_state=1)\n",
    "print(len(X_train))\n",
    "print(len(X_test))\n",
    "\n",
    "svm_model_linear_multi = SVC(kernel = 'linear', C = 1).fit(X_train_tf, y_train)\n",
    "svm_predictions = svm_model_linear_multi.predict(X_test_tf)"
   ]
  },
  {
   "cell_type": "code",
   "execution_count": 253,
   "id": "2355aae2-0eb1-4413-ba63-0c6da1142e99",
   "metadata": {},
   "outputs": [
    {
     "name": "stdout",
     "output_type": "stream",
     "text": [
      "              precision    recall  f1-score   support\n",
      "\n",
      "           0       0.00      0.00      0.00         1\n",
      "           1       1.00      0.07      0.12        15\n",
      "           2       0.30      0.60      0.40        25\n",
      "           3       0.50      0.27      0.35        33\n",
      "           4       0.22      0.28      0.24        18\n",
      "\n",
      "    accuracy                           0.33        92\n",
      "   macro avg       0.40      0.24      0.22        92\n",
      "weighted avg       0.47      0.33      0.30        92\n",
      "\n",
      "Confusion matrix:\n",
      "[[ 0  0  1  0  0]\n",
      " [ 0  1  6  3  5]\n",
      " [ 0  0 15  4  6]\n",
      " [ 0  0 17  9  7]\n",
      " [ 0  0 11  2  5]]\n"
     ]
    },
    {
     "name": "stderr",
     "output_type": "stream",
     "text": [
      "/home/lana/shared/bin/anaconda3/lib/python3.8/site-packages/sklearn/metrics/_classification.py:1318: UndefinedMetricWarning: Precision and F-score are ill-defined and being set to 0.0 in labels with no predicted samples. Use `zero_division` parameter to control this behavior.\n",
      "  _warn_prf(average, modifier, msg_start, len(result))\n",
      "/home/lana/shared/bin/anaconda3/lib/python3.8/site-packages/sklearn/metrics/_classification.py:1318: UndefinedMetricWarning: Precision and F-score are ill-defined and being set to 0.0 in labels with no predicted samples. Use `zero_division` parameter to control this behavior.\n",
      "  _warn_prf(average, modifier, msg_start, len(result))\n",
      "/home/lana/shared/bin/anaconda3/lib/python3.8/site-packages/sklearn/metrics/_classification.py:1318: UndefinedMetricWarning: Precision and F-score are ill-defined and being set to 0.0 in labels with no predicted samples. Use `zero_division` parameter to control this behavior.\n",
      "  _warn_prf(average, modifier, msg_start, len(result))\n"
     ]
    }
   ],
   "source": [
    "print(metrics.classification_report(y_test, svm_predictions, target_names=['0', '1', '2', '3', '4']))\n",
    "print(\"Confusion matrix:\")\n",
    "print(metrics.confusion_matrix(y_test, svm_predictions))"
   ]
  },
  {
   "cell_type": "code",
   "execution_count": 257,
   "id": "0b2ff03c-e76a-41db-bade-3ccdbd805e46",
   "metadata": {},
   "outputs": [
    {
     "name": "stdout",
     "output_type": "stream",
     "text": [
      "827\n",
      "92\n",
      "              precision    recall  f1-score   support\n",
      "\n",
      "           0       0.00      0.00      0.00         6\n",
      "           1       0.34      0.41      0.37        34\n",
      "           2       0.30      0.46      0.36        28\n",
      "           3       0.25      0.08      0.12        13\n",
      "           4       0.00      0.00      0.00        11\n",
      "\n",
      "    accuracy                           0.30        92\n",
      "   macro avg       0.18      0.19      0.17        92\n",
      "weighted avg       0.25      0.30      0.26        92\n",
      "\n",
      "Confusion matrix:\n",
      "[[ 0  4  2  0  0]\n",
      " [ 1 14 17  0  2]\n",
      " [ 0 13 13  2  0]\n",
      " [ 0  7  5  1  0]\n",
      " [ 0  3  7  1  0]]\n"
     ]
    }
   ],
   "source": [
    "X_train, X_test, y_train, y_test = train_test_split(data_df[data], data_df.emotional, train_size=0.9, random_state=1)\n",
    "print(len(X_train))\n",
    "print(len(X_test))\n",
    "\n",
    "svm_model_linear_multi = SVC(kernel = 'linear', C = 1).fit(X_train_tf, y_train)\n",
    "svm_predictions = svm_model_linear_multi.predict(X_test_tf)\n",
    "\n",
    "print(metrics.classification_report(y_test, svm_predictions, target_names=['0', '1', '2', '3', '4']))\n",
    "print(\"Confusion matrix:\")\n",
    "print(metrics.confusion_matrix(y_test, svm_predictions))"
   ]
  },
  {
   "cell_type": "code",
   "execution_count": 258,
   "id": "472b39ec-c211-4488-83c9-1ac68bc9eaaa",
   "metadata": {},
   "outputs": [
    {
     "name": "stdout",
     "output_type": "stream",
     "text": [
      "827\n",
      "92\n",
      "              precision    recall  f1-score   support\n",
      "\n",
      "           0       0.00      0.00      0.00         3\n",
      "           1       0.00      0.00      0.00        18\n",
      "           2       0.26      0.55      0.35        22\n",
      "           3       0.32      0.26      0.29        27\n",
      "           4       0.14      0.14      0.14        22\n",
      "\n",
      "    accuracy                           0.24        92\n",
      "   macro avg       0.14      0.19      0.15        92\n",
      "weighted avg       0.19      0.24      0.20        92\n",
      "\n",
      "Confusion matrix:\n",
      "[[ 0  1  2  0  0]\n",
      " [ 0  0  9  3  6]\n",
      " [ 0  0 12  5  5]\n",
      " [ 0  0 12  7  8]\n",
      " [ 0  0 12  7  3]]\n"
     ]
    },
    {
     "name": "stderr",
     "output_type": "stream",
     "text": [
      "/home/lana/shared/bin/anaconda3/lib/python3.8/site-packages/sklearn/metrics/_classification.py:1318: UndefinedMetricWarning: Precision and F-score are ill-defined and being set to 0.0 in labels with no predicted samples. Use `zero_division` parameter to control this behavior.\n",
      "  _warn_prf(average, modifier, msg_start, len(result))\n",
      "/home/lana/shared/bin/anaconda3/lib/python3.8/site-packages/sklearn/metrics/_classification.py:1318: UndefinedMetricWarning: Precision and F-score are ill-defined and being set to 0.0 in labels with no predicted samples. Use `zero_division` parameter to control this behavior.\n",
      "  _warn_prf(average, modifier, msg_start, len(result))\n",
      "/home/lana/shared/bin/anaconda3/lib/python3.8/site-packages/sklearn/metrics/_classification.py:1318: UndefinedMetricWarning: Precision and F-score are ill-defined and being set to 0.0 in labels with no predicted samples. Use `zero_division` parameter to control this behavior.\n",
      "  _warn_prf(average, modifier, msg_start, len(result))\n"
     ]
    }
   ],
   "source": [
    "X_train, X_test, y_train, y_test = train_test_split(data_df[data], data_df.personal, train_size=0.9, random_state=1)\n",
    "print(len(X_train))\n",
    "print(len(X_test))\n",
    "\n",
    "svm_model_linear_multi = SVC(kernel = 'linear', C = 1).fit(X_train_tf, y_train)\n",
    "svm_predictions = svm_model_linear_multi.predict(X_test_tf)\n",
    "\n",
    "print(metrics.classification_report(y_test, svm_predictions, target_names=['0', '1', '2', '3', '4']))\n",
    "print(\"Confusion matrix:\")\n",
    "print(metrics.confusion_matrix(y_test, svm_predictions))"
   ]
  },
  {
   "cell_type": "code",
   "execution_count": null,
   "id": "7ba5237a-65be-4f0a-bb80-ccccadc99b9f",
   "metadata": {},
   "outputs": [],
   "source": []
  }
 ],
 "metadata": {
  "kernelspec": {
   "display_name": "zentx005-roberta",
   "language": "python",
   "name": "zentx005-roberta"
  },
  "language_info": {
   "codemirror_mode": {
    "name": "ipython",
    "version": 3
   },
   "file_extension": ".py",
   "mimetype": "text/x-python",
   "name": "python",
   "nbconvert_exporter": "python",
   "pygments_lexer": "ipython3",
   "version": "3.8.13"
  }
 },
 "nbformat": 4,
 "nbformat_minor": 5
}
